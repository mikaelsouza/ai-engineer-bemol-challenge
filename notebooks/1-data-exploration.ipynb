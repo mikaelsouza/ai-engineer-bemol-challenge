{
 "cells": [
  {
   "cell_type": "markdown",
   "metadata": {},
   "source": [
    "# Bemol AI Engineering Challenge\n",
    "\n",
    "## O desafio consiste em:\n",
    "\n",
    "* Uma análise do perfil do público de clientes da base de dados;\n",
    "* Segmentar os perfis identificados com base em características úteis para o time de vendas e marketing;\n",
    "* Fornecer os dados a partir de uma API utilizada para consultas. Disponível em `/src/api/`.\n",
    "\n",
    "## Perguntas iniciais:\n",
    "\n",
    "Talvez algumas dessas não possam ser respondidas pela base de dados, mas é um ponto de partida:\n",
    "\n",
    "#### Sobre os dados:\n",
    "\n",
    "* Como separar clientes entre pontuais (que realizam uma ou poucas compras) e clientes recorrentes?\n",
    "* Será que é possível extrair informações que ajudem a tornar um cliente pontual em um cliente recorrente?\n",
    "* Dado que existem clientes recorrentes, o que os tornam recorrentes? É possível melhorar esse relacionamento?\n",
    "\n",
    "#### Sobre o problema:\n",
    "\n",
    "* Quais métricas são importantes de usar para o problema de segmentação?\n",
    "   - [Recency, Frequency, Monetary Value (RFM)](https://www.investopedia.com/terms/r/rfm-recency-frequency-monetary-value.asp) Analysis parece ser um bom ponto de partida. Segundo algumas breves pesquisas, queremos entender o quão recente um cliente fez uma compra, o quão frequente um cliente compra e o quanto o cliente gasta em suas compras.\n",
    "* Que algorítmos são mais indicados para esses casos?"
   ]
  },
  {
   "cell_type": "markdown",
   "metadata": {},
   "source": [
    "# 1. Exploração Inicial dos Dados"
   ]
  },
  {
   "cell_type": "code",
   "execution_count": 1,
   "metadata": {},
   "outputs": [],
   "source": [
    "import pandas as pd"
   ]
  },
  {
   "cell_type": "markdown",
   "metadata": {},
   "source": [
    "Para este desafio, será utilizado o dataset [Online Retail K-means & Hierarchical Clustering](https://www.kaggle.com/hellbuoy/online-retail-customer-clustering) que consiste em dados de transações ocorridas entre 01/12/2010 e 09/12/2011 em lojas baseadas no Reino Unido. A empresa vende presentes para todas as ocasiões e a maioria dos seus clientes são atacadistas.\n",
    "\n",
    "O motivo para seleção deste foi pela maior quantidade de exemplos existente na base, maior quantidade de atributos e pelos atributos aparentarem ter informações mais relevantes para segmentação de clientes quando comparado a outra base sugerida.\n",
    "\n",
    "#### Perguntas:\n",
    "\n",
    "* Se a maioria dos clientes são atacadistas, então a maior parte das vendas são em grandes volumes?"
   ]
  },
  {
   "cell_type": "markdown",
   "metadata": {},
   "source": [
    "#### 1.1 Explorando atributos\n",
    "\n",
    "Temos na base de dados os seguintes atributos:\n",
    "\n",
    "* `InvoiceNo`: ID alfanumérico da nota associada a venda do produto.\n",
    "* `StockCode`: ID alfanumérico do produto [?]\n",
    "* `Description`: Descrição textual do produto.\n",
    "* `Quantity`: Quantidade de peças do produto comprada.\n",
    "* `InvoiceDate`: Data da compra.\n",
    "* `UnitPrice`: Preço da unidade do produto.\n",
    "* `CustomerID`: ID alfanumérico que identifica o cliente.\n",
    "* `Country`: País onde compra foi realizada [?]"
   ]
  },
  {
   "cell_type": "code",
   "execution_count": 2,
   "metadata": {},
   "outputs": [
    {
     "data": {
      "text/html": "<div>\n<style scoped>\n    .dataframe tbody tr th:only-of-type {\n        vertical-align: middle;\n    }\n\n    .dataframe tbody tr th {\n        vertical-align: top;\n    }\n\n    .dataframe thead th {\n        text-align: right;\n    }\n</style>\n<table border=\"1\" class=\"dataframe\">\n  <thead>\n    <tr style=\"text-align: right;\">\n      <th></th>\n      <th>InvoiceNo</th>\n      <th>StockCode</th>\n      <th>Description</th>\n      <th>Quantity</th>\n      <th>InvoiceDate</th>\n      <th>UnitPrice</th>\n      <th>CustomerID</th>\n      <th>Country</th>\n    </tr>\n  </thead>\n  <tbody>\n    <tr>\n      <th>0</th>\n      <td>536365</td>\n      <td>85123A</td>\n      <td>WHITE HANGING HEART T-LIGHT HOLDER</td>\n      <td>6</td>\n      <td>01-12-2010 08:26</td>\n      <td>2.55</td>\n      <td>17850.0</td>\n      <td>United Kingdom</td>\n    </tr>\n    <tr>\n      <th>1</th>\n      <td>536365</td>\n      <td>71053</td>\n      <td>WHITE METAL LANTERN</td>\n      <td>6</td>\n      <td>01-12-2010 08:26</td>\n      <td>3.39</td>\n      <td>17850.0</td>\n      <td>United Kingdom</td>\n    </tr>\n    <tr>\n      <th>2</th>\n      <td>536365</td>\n      <td>84406B</td>\n      <td>CREAM CUPID HEARTS COAT HANGER</td>\n      <td>8</td>\n      <td>01-12-2010 08:26</td>\n      <td>2.75</td>\n      <td>17850.0</td>\n      <td>United Kingdom</td>\n    </tr>\n    <tr>\n      <th>3</th>\n      <td>536365</td>\n      <td>84029G</td>\n      <td>KNITTED UNION FLAG HOT WATER BOTTLE</td>\n      <td>6</td>\n      <td>01-12-2010 08:26</td>\n      <td>3.39</td>\n      <td>17850.0</td>\n      <td>United Kingdom</td>\n    </tr>\n    <tr>\n      <th>4</th>\n      <td>536365</td>\n      <td>84029E</td>\n      <td>RED WOOLLY HOTTIE WHITE HEART.</td>\n      <td>6</td>\n      <td>01-12-2010 08:26</td>\n      <td>3.39</td>\n      <td>17850.0</td>\n      <td>United Kingdom</td>\n    </tr>\n  </tbody>\n</table>\n</div>",
      "text/plain": "  InvoiceNo StockCode                          Description  Quantity  \\\n0    536365    85123A   WHITE HANGING HEART T-LIGHT HOLDER         6   \n1    536365     71053                  WHITE METAL LANTERN         6   \n2    536365    84406B       CREAM CUPID HEARTS COAT HANGER         8   \n3    536365    84029G  KNITTED UNION FLAG HOT WATER BOTTLE         6   \n4    536365    84029E       RED WOOLLY HOTTIE WHITE HEART.         6   \n\n        InvoiceDate  UnitPrice  CustomerID         Country  \n0  01-12-2010 08:26       2.55     17850.0  United Kingdom  \n1  01-12-2010 08:26       3.39     17850.0  United Kingdom  \n2  01-12-2010 08:26       2.75     17850.0  United Kingdom  \n3  01-12-2010 08:26       3.39     17850.0  United Kingdom  \n4  01-12-2010 08:26       3.39     17850.0  United Kingdom  "
     },
     "execution_count": 2,
     "metadata": {},
     "output_type": "execute_result"
    }
   ],
   "source": [
    "data = pd.read_csv('../data/raw/online-retail-k-means/data.csv')\n",
    "data.head()"
   ]
  },
  {
   "cell_type": "markdown",
   "metadata": {},
   "source": [
    "#### 1.2 Dados Nulos\n",
    "\n",
    "Aparentemente temos alguns dados faltando na nossa base de dados, são esses:\n",
    "\n",
    "* 135080 vendas sem `CustomerID`.\n",
    "* 1454 vendas sem `Description`.\n",
    "\n",
    "O atributo `CustomerID` é o mais relevante nesse caso pois estamos explorando informações de clientes e esse trabalho é dificultado sem o ID do cliente.\n",
    "\n",
    "Duas alternativas podem ser exploradas para resolver a falta de dados:\n",
    "\n",
    "1. Dado que temos o ID da compra (`InvoiceNo`) talvez seja possível que algumas compras tenham o ID do cliente para alguns produtos e que faltem para outros. Se este caso for verdadeiro, é possível recuperarmos alguns exemplos onde o `CustomerID` não está presente. Um passo similar pode ser realizado para o `Description`.\n",
    "2. Remover todas as linhas onde `CustomerID` não estão preenchidos. Como o `Description` dos items não são extremamente importantes, é possível trabalharmos sem remover os exemplos onde há falta do `Description`."
   ]
  },
  {
   "cell_type": "code",
   "execution_count": 3,
   "metadata": {},
   "outputs": [
    {
     "name": "stdout",
     "output_type": "stream",
     "text": [
      "<class 'pandas.core.frame.DataFrame'>\n",
      "RangeIndex: 541909 entries, 0 to 541908\n",
      "Data columns (total 8 columns):\n",
      " #   Column       Non-Null Count   Dtype  \n",
      "---  ------       --------------   -----  \n",
      " 0   InvoiceNo    541909 non-null  object \n",
      " 1   StockCode    541909 non-null  object \n",
      " 2   Description  540455 non-null  object \n",
      " 3   Quantity     541909 non-null  int64  \n",
      " 4   InvoiceDate  541909 non-null  object \n",
      " 5   UnitPrice    541909 non-null  float64\n",
      " 6   CustomerID   406829 non-null  float64\n",
      " 7   Country      541909 non-null  object \n",
      "dtypes: float64(2), int64(1), object(5)\n",
      "memory usage: 33.1+ MB\n"
     ]
    }
   ],
   "source": [
    "data.info()"
   ]
  },
  {
   "cell_type": "markdown",
   "metadata": {},
   "source": [
    "Primeiramente vamos explorar a alternativa `1`. Para isso seguiremos os seguintes passos:\n",
    "\n",
    "1. São obtidas todas as linhas onde `CustomerID` está nulo.\n",
    "2. Depois, extrai-se todos os `InvoiceNo` onde `CustomerID` está nulo.\n",
    "3. Busca-se por todos os `InvoiceNo` existentes na base que estão na lista de `CustomerID` e verifica-se se não existe algum com `CustomerID` preenchido.\n",
    "\n",
    "Após seguir estes passos, é possível saber se existe alguma compra que tem o `CustomerID` preenchido em algum dos items, porém, segundo o resultado da nossa busca, aparentemente não existe esse caso na nossa base de dados, portanto a alternativa `2` será realizada, portanto serão removidos todos os exemplos com `CustomerID` nulos.\n",
    "\n",
    "O mesmo também ocorre com o atributo `Description`."
   ]
  },
  {
   "cell_type": "code",
   "execution_count": 4,
   "metadata": {},
   "outputs": [
    {
     "data": {
      "text/plain": "False"
     },
     "execution_count": 4,
     "metadata": {},
     "output_type": "execute_result"
    }
   ],
   "source": [
    "# Verificando CustomerID\n",
    "nan_customer = data[data['CustomerID'].isnull()]\n",
    "nan_invoices = nan_customer['InvoiceNo'].unique()\n",
    "boolean_filter = data['InvoiceNo'].isin(nan_invoices)\n",
    "data[boolean_filter]['CustomerID'].any()"
   ]
  },
  {
   "cell_type": "code",
   "execution_count": 5,
   "metadata": {},
   "outputs": [
    {
     "data": {
      "text/plain": "False"
     },
     "execution_count": 5,
     "metadata": {},
     "output_type": "execute_result"
    }
   ],
   "source": [
    "# Verificando Description\n",
    "nan_customer = data[data['Description'].isnull()]\n",
    "nan_invoices = nan_customer['InvoiceNo'].unique()\n",
    "boolean_filter = data['InvoiceNo'].isin(nan_invoices)\n",
    "data[boolean_filter]['Description'].any()"
   ]
  },
  {
   "cell_type": "code",
   "execution_count": 6,
   "metadata": {},
   "outputs": [
    {
     "name": "stdout",
     "output_type": "stream",
     "text": [
      "<class 'pandas.core.frame.DataFrame'>\n",
      "Int64Index: 406829 entries, 0 to 541908\n",
      "Data columns (total 8 columns):\n",
      " #   Column       Non-Null Count   Dtype  \n",
      "---  ------       --------------   -----  \n",
      " 0   InvoiceNo    406829 non-null  object \n",
      " 1   StockCode    406829 non-null  object \n",
      " 2   Description  406829 non-null  object \n",
      " 3   Quantity     406829 non-null  int64  \n",
      " 4   InvoiceDate  406829 non-null  object \n",
      " 5   UnitPrice    406829 non-null  float64\n",
      " 6   CustomerID   406829 non-null  float64\n",
      " 7   Country      406829 non-null  object \n",
      "dtypes: float64(2), int64(1), object(5)\n",
      "memory usage: 27.9+ MB\n"
     ]
    }
   ],
   "source": [
    "data = data.dropna()\n",
    "data.info()"
   ]
  },
  {
   "cell_type": "markdown",
   "metadata": {},
   "source": [
    "#### 1.3 Dados irregulares\n",
    "\n",
    "Algumas irregularidade nos dados encontradas são:\n",
    "\n",
    "* Valor de itens zerado.\n",
    "* Quantidade de itens negativos (-80995?).\n",
    "* Quantidade muito alta de itens (80995?).\n",
    "\n",
    "Entretanto esses dados podem não ser irregularidades, mas sim a forma que a empresa identifica compras canceladas e descontos.\n",
    "\n",
    "É perceptível abaixo que alguns `InvoiceNo` são iniciados com a letra `C` e que são seguidos de compras em quantidades negativas, o que dá a entender que são compras canceladas.\n",
    "\n",
    "#### Observação:\n",
    "\n",
    "* Este tópico de compras com desconto pode ajudar a encontrar padrões em relação ao tipo de produtos que os clientes gostam de ter descontos e se isso pode aumentar o número de vendas.\n",
    "* Apesar disso, a falta de descrição dos produtos para categorização e agrupamento dificulta uma análise mais profunda desse aspecto nesta base de dados."
   ]
  },
  {
   "cell_type": "code",
   "execution_count": 7,
   "metadata": {},
   "outputs": [
    {
     "data": {
      "text/html": "<div>\n<style scoped>\n    .dataframe tbody tr th:only-of-type {\n        vertical-align: middle;\n    }\n\n    .dataframe tbody tr th {\n        vertical-align: top;\n    }\n\n    .dataframe thead th {\n        text-align: right;\n    }\n</style>\n<table border=\"1\" class=\"dataframe\">\n  <thead>\n    <tr style=\"text-align: right;\">\n      <th></th>\n      <th>Quantity</th>\n      <th>UnitPrice</th>\n      <th>CustomerID</th>\n    </tr>\n  </thead>\n  <tbody>\n    <tr>\n      <th>count</th>\n      <td>406829.000000</td>\n      <td>406829.000000</td>\n      <td>406829.000000</td>\n    </tr>\n    <tr>\n      <th>mean</th>\n      <td>12.061303</td>\n      <td>3.460471</td>\n      <td>15287.690570</td>\n    </tr>\n    <tr>\n      <th>std</th>\n      <td>248.693370</td>\n      <td>69.315162</td>\n      <td>1713.600303</td>\n    </tr>\n    <tr>\n      <th>min</th>\n      <td>-80995.000000</td>\n      <td>0.000000</td>\n      <td>12346.000000</td>\n    </tr>\n    <tr>\n      <th>25%</th>\n      <td>2.000000</td>\n      <td>1.250000</td>\n      <td>13953.000000</td>\n    </tr>\n    <tr>\n      <th>50%</th>\n      <td>5.000000</td>\n      <td>1.950000</td>\n      <td>15152.000000</td>\n    </tr>\n    <tr>\n      <th>75%</th>\n      <td>12.000000</td>\n      <td>3.750000</td>\n      <td>16791.000000</td>\n    </tr>\n    <tr>\n      <th>max</th>\n      <td>80995.000000</td>\n      <td>38970.000000</td>\n      <td>18287.000000</td>\n    </tr>\n  </tbody>\n</table>\n</div>",
      "text/plain": "            Quantity      UnitPrice     CustomerID\ncount  406829.000000  406829.000000  406829.000000\nmean       12.061303       3.460471   15287.690570\nstd       248.693370      69.315162    1713.600303\nmin    -80995.000000       0.000000   12346.000000\n25%         2.000000       1.250000   13953.000000\n50%         5.000000       1.950000   15152.000000\n75%        12.000000       3.750000   16791.000000\nmax     80995.000000   38970.000000   18287.000000"
     },
     "execution_count": 7,
     "metadata": {},
     "output_type": "execute_result"
    }
   ],
   "source": [
    "data.describe()"
   ]
  },
  {
   "cell_type": "code",
   "execution_count": 8,
   "metadata": {},
   "outputs": [
    {
     "data": {
      "text/html": "<div>\n<style scoped>\n    .dataframe tbody tr th:only-of-type {\n        vertical-align: middle;\n    }\n\n    .dataframe tbody tr th {\n        vertical-align: top;\n    }\n\n    .dataframe thead th {\n        text-align: right;\n    }\n</style>\n<table border=\"1\" class=\"dataframe\">\n  <thead>\n    <tr style=\"text-align: right;\">\n      <th></th>\n      <th>InvoiceNo</th>\n      <th>StockCode</th>\n      <th>Description</th>\n      <th>Quantity</th>\n      <th>InvoiceDate</th>\n      <th>UnitPrice</th>\n      <th>CustomerID</th>\n      <th>Country</th>\n    </tr>\n  </thead>\n  <tbody>\n    <tr>\n      <th>141</th>\n      <td>C536379</td>\n      <td>D</td>\n      <td>Discount</td>\n      <td>-1</td>\n      <td>01-12-2010 09:41</td>\n      <td>27.50</td>\n      <td>14527.0</td>\n      <td>United Kingdom</td>\n    </tr>\n    <tr>\n      <th>154</th>\n      <td>C536383</td>\n      <td>35004C</td>\n      <td>SET OF 3 COLOURED  FLYING DUCKS</td>\n      <td>-1</td>\n      <td>01-12-2010 09:49</td>\n      <td>4.65</td>\n      <td>15311.0</td>\n      <td>United Kingdom</td>\n    </tr>\n    <tr>\n      <th>235</th>\n      <td>C536391</td>\n      <td>22556</td>\n      <td>PLASTERS IN TIN CIRCUS PARADE</td>\n      <td>-12</td>\n      <td>01-12-2010 10:24</td>\n      <td>1.65</td>\n      <td>17548.0</td>\n      <td>United Kingdom</td>\n    </tr>\n    <tr>\n      <th>236</th>\n      <td>C536391</td>\n      <td>21984</td>\n      <td>PACK OF 12 PINK PAISLEY TISSUES</td>\n      <td>-24</td>\n      <td>01-12-2010 10:24</td>\n      <td>0.29</td>\n      <td>17548.0</td>\n      <td>United Kingdom</td>\n    </tr>\n    <tr>\n      <th>237</th>\n      <td>C536391</td>\n      <td>21983</td>\n      <td>PACK OF 12 BLUE PAISLEY TISSUES</td>\n      <td>-24</td>\n      <td>01-12-2010 10:24</td>\n      <td>0.29</td>\n      <td>17548.0</td>\n      <td>United Kingdom</td>\n    </tr>\n  </tbody>\n</table>\n</div>",
      "text/plain": "    InvoiceNo StockCode                       Description  Quantity  \\\n141   C536379         D                          Discount        -1   \n154   C536383    35004C   SET OF 3 COLOURED  FLYING DUCKS        -1   \n235   C536391     22556    PLASTERS IN TIN CIRCUS PARADE        -12   \n236   C536391     21984  PACK OF 12 PINK PAISLEY TISSUES        -24   \n237   C536391     21983  PACK OF 12 BLUE PAISLEY TISSUES        -24   \n\n          InvoiceDate  UnitPrice  CustomerID         Country  \n141  01-12-2010 09:41      27.50     14527.0  United Kingdom  \n154  01-12-2010 09:49       4.65     15311.0  United Kingdom  \n235  01-12-2010 10:24       1.65     17548.0  United Kingdom  \n236  01-12-2010 10:24       0.29     17548.0  United Kingdom  \n237  01-12-2010 10:24       0.29     17548.0  United Kingdom  "
     },
     "execution_count": 8,
     "metadata": {},
     "output_type": "execute_result"
    }
   ],
   "source": [
    "# Devolução?\n",
    "data[data['Quantity'] < 0].head()"
   ]
  },
  {
   "cell_type": "code",
   "execution_count": 9,
   "metadata": {},
   "outputs": [
    {
     "data": {
      "text/html": "<div>\n<style scoped>\n    .dataframe tbody tr th:only-of-type {\n        vertical-align: middle;\n    }\n\n    .dataframe tbody tr th {\n        vertical-align: top;\n    }\n\n    .dataframe thead th {\n        text-align: right;\n    }\n</style>\n<table border=\"1\" class=\"dataframe\">\n  <thead>\n    <tr style=\"text-align: right;\">\n      <th></th>\n      <th>InvoiceNo</th>\n      <th>StockCode</th>\n      <th>Description</th>\n      <th>Quantity</th>\n      <th>InvoiceDate</th>\n      <th>UnitPrice</th>\n      <th>CustomerID</th>\n      <th>Country</th>\n    </tr>\n  </thead>\n  <tbody>\n    <tr>\n      <th>9302</th>\n      <td>537197</td>\n      <td>22841</td>\n      <td>ROUND CAKE TIN VINTAGE GREEN</td>\n      <td>1</td>\n      <td>05-12-2010 14:02</td>\n      <td>0.0</td>\n      <td>12647.0</td>\n      <td>Germany</td>\n    </tr>\n    <tr>\n      <th>33576</th>\n      <td>539263</td>\n      <td>22580</td>\n      <td>ADVENT CALENDAR GINGHAM SACK</td>\n      <td>4</td>\n      <td>16-12-2010 14:36</td>\n      <td>0.0</td>\n      <td>16560.0</td>\n      <td>United Kingdom</td>\n    </tr>\n    <tr>\n      <th>40089</th>\n      <td>539722</td>\n      <td>22423</td>\n      <td>REGENCY CAKESTAND 3 TIER</td>\n      <td>10</td>\n      <td>21-12-2010 13:45</td>\n      <td>0.0</td>\n      <td>14911.0</td>\n      <td>EIRE</td>\n    </tr>\n    <tr>\n      <th>47068</th>\n      <td>540372</td>\n      <td>22090</td>\n      <td>PAPER BUNTING RETROSPOT</td>\n      <td>24</td>\n      <td>06-01-2011 16:41</td>\n      <td>0.0</td>\n      <td>13081.0</td>\n      <td>United Kingdom</td>\n    </tr>\n    <tr>\n      <th>47070</th>\n      <td>540372</td>\n      <td>22553</td>\n      <td>PLASTERS IN TIN SKULLS</td>\n      <td>24</td>\n      <td>06-01-2011 16:41</td>\n      <td>0.0</td>\n      <td>13081.0</td>\n      <td>United Kingdom</td>\n    </tr>\n  </tbody>\n</table>\n</div>",
      "text/plain": "      InvoiceNo StockCode                   Description  Quantity  \\\n9302     537197     22841  ROUND CAKE TIN VINTAGE GREEN         1   \n33576    539263     22580  ADVENT CALENDAR GINGHAM SACK         4   \n40089    539722     22423      REGENCY CAKESTAND 3 TIER        10   \n47068    540372     22090       PAPER BUNTING RETROSPOT        24   \n47070    540372     22553        PLASTERS IN TIN SKULLS        24   \n\n            InvoiceDate  UnitPrice  CustomerID         Country  \n9302   05-12-2010 14:02        0.0     12647.0         Germany  \n33576  16-12-2010 14:36        0.0     16560.0  United Kingdom  \n40089  21-12-2010 13:45        0.0     14911.0            EIRE  \n47068  06-01-2011 16:41        0.0     13081.0  United Kingdom  \n47070  06-01-2011 16:41        0.0     13081.0  United Kingdom  "
     },
     "execution_count": 9,
     "metadata": {},
     "output_type": "execute_result"
    }
   ],
   "source": [
    "# Descontos?\n",
    "data[data['UnitPrice'] <= 0].head()"
   ]
  },
  {
   "cell_type": "code",
   "execution_count": 10,
   "metadata": {},
   "outputs": [
    {
     "data": {
      "text/html": "<div>\n<style scoped>\n    .dataframe tbody tr th:only-of-type {\n        vertical-align: middle;\n    }\n\n    .dataframe tbody tr th {\n        vertical-align: top;\n    }\n\n    .dataframe thead th {\n        text-align: right;\n    }\n</style>\n<table border=\"1\" class=\"dataframe\">\n  <thead>\n    <tr style=\"text-align: right;\">\n      <th></th>\n      <th>InvoiceNo</th>\n      <th>StockCode</th>\n      <th>Description</th>\n      <th>Quantity</th>\n      <th>InvoiceDate</th>\n      <th>UnitPrice</th>\n      <th>CustomerID</th>\n      <th>Country</th>\n    </tr>\n  </thead>\n  <tbody>\n    <tr>\n      <th>540421</th>\n      <td>581483</td>\n      <td>23843</td>\n      <td>PAPER CRAFT , LITTLE BIRDIE</td>\n      <td>80995</td>\n      <td>09-12-2011 09:15</td>\n      <td>2.08</td>\n      <td>16446.0</td>\n      <td>United Kingdom</td>\n    </tr>\n    <tr>\n      <th>540422</th>\n      <td>C581484</td>\n      <td>23843</td>\n      <td>PAPER CRAFT , LITTLE BIRDIE</td>\n      <td>-80995</td>\n      <td>09-12-2011 09:27</td>\n      <td>2.08</td>\n      <td>16446.0</td>\n      <td>United Kingdom</td>\n    </tr>\n  </tbody>\n</table>\n</div>",
      "text/plain": "       InvoiceNo StockCode                  Description  Quantity  \\\n540421    581483     23843  PAPER CRAFT , LITTLE BIRDIE     80995   \n540422   C581484     23843  PAPER CRAFT , LITTLE BIRDIE    -80995   \n\n             InvoiceDate  UnitPrice  CustomerID         Country  \n540421  09-12-2011 09:15       2.08     16446.0  United Kingdom  \n540422  09-12-2011 09:27       2.08     16446.0  United Kingdom  "
     },
     "execution_count": 10,
     "metadata": {},
     "output_type": "execute_result"
    }
   ],
   "source": [
    "# Compra cancelada?\n",
    "data[data['Quantity'].isin([80995, -80995])]"
   ]
  },
  {
   "cell_type": "markdown",
   "metadata": {},
   "source": [
    "# 2. Exploração de Dados de Clientes"
   ]
  },
  {
   "cell_type": "markdown",
   "metadata": {},
   "source": [
    "Agora que demos uma olhada geral no dataset e de algumas características específicas dos dados, exploraremos as informações relacionadas aos clientes com o objetivo de segmentá-los de forma útil para o time de marketing e de vendas.\n",
    "\n",
    "#### 2.1 Segmentação por localização:\n",
    "\n",
    "Dado que localidade é uma característica que pode influenciar nas características do cliente, a primeira segmentação sugerida é a partir dos dados de localização dos clientes.\n",
    "\n",
    "Clientes que moram em países diferentes tem necessidades diferentes e, por conta da distância geográfica e relações diplomática entre os países, a empresa pode  fornecer atendimento distinto entre clientes de localidades distintas."
   ]
  },
  {
   "cell_type": "code",
   "execution_count": 44,
   "metadata": {},
   "outputs": [
    {
     "data": {
      "text/plain": "United Kingdom    19857\nGermany             603\nFrance              458\nEIRE                319\nBelgium             119\nSpain               105\nNetherlands         101\nSwitzerland          71\nPortugal             70\nAustralia            69\nName: Country, dtype: int64"
     },
     "execution_count": 44,
     "metadata": {},
     "output_type": "execute_result"
    }
   ],
   "source": [
    "# Quantidade de vendas por país\n",
    "sell_by_country = data.drop_duplicates('InvoiceNo')['Country'].value_counts()\n",
    "sell_by_country[:10]"
   ]
  },
  {
   "cell_type": "code",
   "execution_count": 45,
   "metadata": {},
   "outputs": [
    {
     "data": {
      "text/plain": "United Kingdom    3950\nGermany             95\nFrance              87\nSpain               29\nBelgium             24\nSwitzerland         20\nPortugal            19\nItaly               15\nFinland             12\nNorway              10\nName: Country, dtype: int64"
     },
     "execution_count": 45,
     "metadata": {},
     "output_type": "execute_result"
    }
   ],
   "source": [
    "# Quantidade de vendas por cliente\n",
    "sell_by_client = data.drop_duplicates('CustomerID')['Country'].value_counts()\n",
    "sell_by_client[:10]"
   ]
  },
  {
   "cell_type": "code",
   "execution_count": 43,
   "metadata": {},
   "outputs": [
    {
     "data": {
      "text/plain": "Australia                 7.666667\nAustria                   2.111111\nBahrain                   1.000000\nBelgium                   4.958333\nBrazil                    1.000000\nCanada                    1.500000\nChannel Islands           3.666667\nCyprus                    2.857143\nCzech Republic            5.000000\nDenmark                   2.625000\nEIRE                    106.333333\nEuropean Community        5.000000\nFinland                   4.000000\nFrance                    5.264368\nGermany                   6.347368\nGreece                    1.500000\nIceland                   7.000000\nIsrael                    1.500000\nItaly                     3.666667\nJapan                     3.500000\nLebanon                   1.000000\nLithuania                 4.000000\nMalta                     5.000000\nNetherlands              11.222222\nNorway                    4.000000\nPoland                    4.000000\nPortugal                  3.684211\nRSA                       1.000000\nSaudi Arabia              2.000000\nSingapore                10.000000\nSpain                     3.620690\nSweden                    5.750000\nSwitzerland               3.550000\nUSA                       1.750000\nUnited Arab Emirates      1.500000\nUnited Kingdom            5.027089\nUnspecified               2.000000\nName: Country, dtype: float64"
     },
     "execution_count": 43,
     "metadata": {},
     "output_type": "execute_result"
    }
   ],
   "source": [
    "client_by_country_ratio = sell_by_country / sell_by_client\n",
    "client_by_country_ratio"
   ]
  },
  {
   "cell_type": "code",
   "execution_count": null,
   "metadata": {},
   "outputs": [],
   "source": []
  }
 ],
 "metadata": {
  "kernelspec": {
   "display_name": "Python 3",
   "language": "python",
   "name": "python3"
  },
  "language_info": {
   "codemirror_mode": {
    "name": "ipython",
    "version": 3
   },
   "file_extension": ".py",
   "mimetype": "text/x-python",
   "name": "python",
   "nbconvert_exporter": "python",
   "pygments_lexer": "ipython3",
   "version": "3.8.5"
  },
  "orig_nbformat": 2
 },
 "nbformat": 4,
 "nbformat_minor": 2
}